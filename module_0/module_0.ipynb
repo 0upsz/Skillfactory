{
 "cells": [
  {
   "cell_type": "code",
   "execution_count": null,
   "metadata": {},
   "outputs": [],
   "source": [
    "import numpy as np\n",
    "number = 30"
   ]
  },
  {
   "cell_type": "code",
   "execution_count": 361,
   "metadata": {},
   "outputs": [],
   "source": [
    "def score_game(game_core):\n",
    "    '''Запускаем игру 1000 раз, чтобы узнать, как быстро игра угадывает число'''\n",
    "    count_ls = []\n",
    "    np.random.seed(1)  # фиксируем RANDOM SEED, чтобы ваш эксперимент был воспроизводим!\n",
    "    random_array = np.random.randint(1,101, size=(1000))\n",
    "    for number in random_array:\n",
    "        count_ls.append(game_core(number))\n",
    "    score = int(np.mean(count_ls))\n",
    "    print(f\"Ваш алгоритм угадывает число в среднем за {score} попыток\")\n",
    "    return(score)"
   ]
  },
  {
   "cell_type": "code",
   "execution_count": 368,
   "metadata": {},
   "outputs": [],
   "source": [
    "def game_core_v4(number):\n",
    "    \"\"\"\"Функция для угадывания числа от 1 до 100 путем отсеивания половин диапазонов, где числа быть не может\"\"\"\n",
    "    count = 0  \n",
    "    predict = 50 # вводим переменную с первым предположением, которое является серединой диапазона\n",
    "    predict_bi = predict/2 # изменяемая переменная, которую мы будем вычитать или прибавлять к предполагаемому числу \n",
    "    \n",
    "    while True: \n",
    "        count += 1  \n",
    "        if number == predict: \n",
    "            return(count) # выход из цикла после того, как число отгадано\n",
    "        \n",
    "        elif number < predict: # определение диапазонов для случаев, когда загаданное число меньше предположенного\n",
    "            predict -= int(predict_bi) \n",
    "            predict_bi = int(predict_bi/2)\n",
    "            if predict_bi == 0:\n",
    "                predict_bi = 1\n",
    "        \n",
    "        elif number > predict: # определение диапазонов для случаев, когда загаданное число больше предположенного\n",
    "            predict += int(predict_bi)\n",
    "            predict_bi = int(predict_bi/2)\n",
    "            if predict_bi == 0:\n",
    "                predict_bi = 1 "
   ]
  },
  {
   "cell_type": "code",
   "execution_count": 369,
   "metadata": {},
   "outputs": [
    {
     "name": "stdout",
     "output_type": "stream",
     "text": [
      "Ваш алгоритм угадывает число в среднем за 5 попыток\n"
     ]
    },
    {
     "data": {
      "text/plain": [
       "5"
      ]
     },
     "execution_count": 369,
     "metadata": {},
     "output_type": "execute_result"
    }
   ],
   "source": [
    "score_game(game_core_v4)"
   ]
  }
 ],
 "metadata": {
  "kernelspec": {
   "display_name": "Python 3",
   "language": "python",
   "name": "python3"
  },
  "language_info": {
   "codemirror_mode": {
    "name": "ipython",
    "version": 3
   },
   "file_extension": ".py",
   "mimetype": "text/x-python",
   "name": "python",
   "nbconvert_exporter": "python",
   "pygments_lexer": "ipython3",
   "version": "3.8.5"
  }
 },
 "nbformat": 4,
 "nbformat_minor": 4
}
